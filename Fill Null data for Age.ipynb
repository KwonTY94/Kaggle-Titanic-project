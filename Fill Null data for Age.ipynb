{
 "cells": [
  {
   "cell_type": "markdown",
   "metadata": {},
   "source": [
    "# Fill Null data for Age"
   ]
  },
  {
   "cell_type": "code",
   "execution_count": 3,
   "metadata": {},
   "outputs": [],
   "source": [
    "## Import modules"
   ]
  },
  {
   "cell_type": "code",
   "execution_count": 74,
   "metadata": {},
   "outputs": [
    {
     "data": {
      "text/html": [
       "        <script type=\"text/javascript\">\n",
       "        window.PlotlyConfig = {MathJaxConfig: 'local'};\n",
       "        if (window.MathJax) {MathJax.Hub.Config({SVG: {font: \"STIX-Web\"}});}\n",
       "        if (typeof require !== 'undefined') {\n",
       "        require.undef(\"plotly\");\n",
       "        requirejs.config({\n",
       "            paths: {\n",
       "                'plotly': ['https://cdn.plot.ly/plotly-latest.min']\n",
       "            }\n",
       "        });\n",
       "        require(['plotly'], function(Plotly) {\n",
       "            window._Plotly = Plotly;\n",
       "        });\n",
       "        }\n",
       "        </script>\n",
       "        "
      ]
     },
     "metadata": {},
     "output_type": "display_data"
    }
   ],
   "source": [
    "import numpy as np\n",
    "import pandas as pd\n",
    "from pandas import Series\n",
    "import matplotlib.pyplot as plt\n",
    "import seaborn as sns\n",
    "import plotly.offline as py\n",
    "py.init_notebook_mode(connected=True)\n",
    "import plotly.graph_objs as go\n",
    "import plotly.tools as tls\n",
    "\n",
    "#ignore warnings\n",
    "import warnings\n",
    "\n",
    "%matplotlib inline"
   ]
  },
  {
   "cell_type": "markdown",
   "metadata": {},
   "source": [
    "Import file(Should put 'r' in front to avoid SyntaxError)"
   ]
  },
  {
   "cell_type": "code",
   "execution_count": 76,
   "metadata": {},
   "outputs": [],
   "source": [
    "df_train=pd.read_csv(r'C:\\Users\\user\\Desktop\\데이터분석\\220203 프로젝트1_titanic\\train.csv')\n",
    "df_test=pd.read_csv(r'C:\\Users\\user\\Desktop\\데이터분석\\220203 프로젝트1_titanic\\test.csv')"
   ]
  },
  {
   "cell_type": "markdown",
   "metadata": {},
   "source": [
    "Create 'FamilySize' column"
   ]
  },
  {
   "cell_type": "code",
   "execution_count": 78,
   "metadata": {},
   "outputs": [],
   "source": [
    "df_train['FamilySize']=df_train['SibSp']+df_train['Parch']+1\n",
    "df_test['FamilySize']=df_test['SibSp']+df_test['Parch']+1\n",
    "#Why do I put 1? 'Because Sibsp, Parch does not include the passenger himself. SibSp' refers the number of sibling+spouse the passenger aboarded wih.'SibSp' refers the number of parents and chold the passenger aboarded wih\n"
   ]
  },
  {
   "cell_type": "raw",
   "metadata": {},
   "source": [
    "Create not skewed fare model for correct machine learning"
   ]
  },
  {
   "cell_type": "code",
   "execution_count": 84,
   "metadata": {},
   "outputs": [
    {
     "name": "stdout",
     "output_type": "stream",
     "text": [
      "2.947867689314118\n"
     ]
    }
   ],
   "source": [
    "df_test.loc[df_test.Fare.isnull(), 'Fare'] = df_test['Fare'].mean()\n",
    "print(df_test['Fare'].mean())"
   ]
  },
  {
   "cell_type": "markdown",
   "metadata": {},
   "source": [
    "Fill the Fare data with not skewed data"
   ]
  },
  {
   "cell_type": "code",
   "execution_count": 86,
   "metadata": {
    "scrolled": true
   },
   "outputs": [],
   "source": [
    "df_train['Fare'] = df_train['Fare'].map(lambda i: np.log(i) if i > 0 else 0)\n",
    "df_test['Fare'] = df_test['Fare'].map(lambda i: np.log(i) if i > 0 else 0)\n",
    "#use of 'lambda' to log the outliers"
   ]
  },
  {
   "cell_type": "markdown",
   "metadata": {},
   "source": [
    "## Fill null data"
   ]
  },
  {
   "cell_type": "markdown",
   "metadata": {},
   "source": [
    "How many null data in 'Age'?"
   ]
  },
  {
   "cell_type": "code",
   "execution_count": 88,
   "metadata": {
    "scrolled": true
   },
   "outputs": [
    {
     "data": {
      "text/plain": [
       "177"
      ]
     },
     "execution_count": 88,
     "metadata": {},
     "output_type": "execute_result"
    }
   ],
   "source": [
    "df_train['Age'].isnull().sum()"
   ]
  },
  {
   "cell_type": "markdown",
   "metadata": {},
   "source": [
    "There is 177 null data for age. "
   ]
  },
  {
   "cell_type": "markdown",
   "metadata": {},
   "source": [
    "Use titles (Mr, Mrs, Miss, others) to group data to fill out null data"
   ]
  },
  {
   "cell_type": "markdown",
   "metadata": {},
   "source": [
    "Extract all the titles and make them into string format."
   ]
  },
  {
   "cell_type": "markdown",
   "metadata": {},
   "source": [
    "'([A-Za-z]+)\\.'= extract keywords that start with A to Z, a to z; and ends with the dot"
   ]
  },
  {
   "cell_type": "code",
   "execution_count": 128,
   "metadata": {
    "scrolled": true
   },
   "outputs": [
    {
     "data": {
      "text/html": [
       "<div>\n",
       "<style scoped>\n",
       "    .dataframe tbody tr th:only-of-type {\n",
       "        vertical-align: middle;\n",
       "    }\n",
       "\n",
       "    .dataframe tbody tr th {\n",
       "        vertical-align: top;\n",
       "    }\n",
       "\n",
       "    .dataframe thead th {\n",
       "        text-align: right;\n",
       "    }\n",
       "</style>\n",
       "<table border=\"1\" class=\"dataframe\">\n",
       "  <thead>\n",
       "    <tr style=\"text-align: right;\">\n",
       "      <th></th>\n",
       "      <th>0</th>\n",
       "    </tr>\n",
       "  </thead>\n",
       "  <tbody>\n",
       "    <tr>\n",
       "      <th>0</th>\n",
       "      <td>Mr</td>\n",
       "    </tr>\n",
       "    <tr>\n",
       "      <th>1</th>\n",
       "      <td>Mrs</td>\n",
       "    </tr>\n",
       "    <tr>\n",
       "      <th>2</th>\n",
       "      <td>Miss</td>\n",
       "    </tr>\n",
       "    <tr>\n",
       "      <th>3</th>\n",
       "      <td>Mrs</td>\n",
       "    </tr>\n",
       "    <tr>\n",
       "      <th>4</th>\n",
       "      <td>Mr</td>\n",
       "    </tr>\n",
       "    <tr>\n",
       "      <th>...</th>\n",
       "      <td>...</td>\n",
       "    </tr>\n",
       "    <tr>\n",
       "      <th>886</th>\n",
       "      <td>Rev</td>\n",
       "    </tr>\n",
       "    <tr>\n",
       "      <th>887</th>\n",
       "      <td>Miss</td>\n",
       "    </tr>\n",
       "    <tr>\n",
       "      <th>888</th>\n",
       "      <td>Miss</td>\n",
       "    </tr>\n",
       "    <tr>\n",
       "      <th>889</th>\n",
       "      <td>Mr</td>\n",
       "    </tr>\n",
       "    <tr>\n",
       "      <th>890</th>\n",
       "      <td>Mr</td>\n",
       "    </tr>\n",
       "  </tbody>\n",
       "</table>\n",
       "<p>891 rows × 1 columns</p>\n",
       "</div>"
      ],
      "text/plain": [
       "        0\n",
       "0      Mr\n",
       "1     Mrs\n",
       "2    Miss\n",
       "3     Mrs\n",
       "4      Mr\n",
       "..    ...\n",
       "886   Rev\n",
       "887  Miss\n",
       "888  Miss\n",
       "889    Mr\n",
       "890    Mr\n",
       "\n",
       "[891 rows x 1 columns]"
      ]
     },
     "execution_count": 128,
     "metadata": {},
     "output_type": "execute_result"
    }
   ],
   "source": [
    "df_train['Name'].str.extract('([A-Za-z]+)\\.')"
   ]
  },
  {
   "cell_type": "code",
   "execution_count": 129,
   "metadata": {},
   "outputs": [],
   "source": [
    "df_train['Title']=df_train['Name'].str.extract('([A-Za-z]+)\\.')\n",
    "df_test['Title']=df_test['Name'].str.extract('([A-Za-z]+)\\.')"
   ]
  },
  {
   "cell_type": "markdown",
   "metadata": {},
   "source": [
    "See the title distribution"
   ]
  },
  {
   "cell_type": "code",
   "execution_count": 130,
   "metadata": {
    "scrolled": false
   },
   "outputs": [
    {
     "data": {
      "text/html": [
       "<style  type=\"text/css\" >\n",
       "    #T_9dd93cf4_8cf5_11ec_8711_e8796e26327frow0_col0 {\n",
       "            background-color:  #fff7fb;\n",
       "            color:  #000000;\n",
       "        }    #T_9dd93cf4_8cf5_11ec_8711_e8796e26327frow0_col1 {\n",
       "            background-color:  #fff7fb;\n",
       "            color:  #000000;\n",
       "        }    #T_9dd93cf4_8cf5_11ec_8711_e8796e26327frow0_col2 {\n",
       "            background-color:  #023858;\n",
       "            color:  #f1f1f1;\n",
       "        }    #T_9dd93cf4_8cf5_11ec_8711_e8796e26327frow0_col3 {\n",
       "            background-color:  #fff7fb;\n",
       "            color:  #000000;\n",
       "        }    #T_9dd93cf4_8cf5_11ec_8711_e8796e26327frow0_col4 {\n",
       "            background-color:  #fff7fb;\n",
       "            color:  #000000;\n",
       "        }    #T_9dd93cf4_8cf5_11ec_8711_e8796e26327frow0_col5 {\n",
       "            background-color:  #fff7fb;\n",
       "            color:  #000000;\n",
       "        }    #T_9dd93cf4_8cf5_11ec_8711_e8796e26327frow0_col6 {\n",
       "            background-color:  #023858;\n",
       "            color:  #f1f1f1;\n",
       "        }    #T_9dd93cf4_8cf5_11ec_8711_e8796e26327frow0_col7 {\n",
       "            background-color:  #fff7fb;\n",
       "            color:  #000000;\n",
       "        }    #T_9dd93cf4_8cf5_11ec_8711_e8796e26327frow0_col8 {\n",
       "            background-color:  #fff7fb;\n",
       "            color:  #000000;\n",
       "        }    #T_9dd93cf4_8cf5_11ec_8711_e8796e26327frow0_col9 {\n",
       "            background-color:  #023858;\n",
       "            color:  #f1f1f1;\n",
       "        }    #T_9dd93cf4_8cf5_11ec_8711_e8796e26327frow0_col10 {\n",
       "            background-color:  #023858;\n",
       "            color:  #f1f1f1;\n",
       "        }    #T_9dd93cf4_8cf5_11ec_8711_e8796e26327frow0_col11 {\n",
       "            background-color:  #023858;\n",
       "            color:  #f1f1f1;\n",
       "        }    #T_9dd93cf4_8cf5_11ec_8711_e8796e26327frow0_col12 {\n",
       "            background-color:  #fff7fb;\n",
       "            color:  #000000;\n",
       "        }    #T_9dd93cf4_8cf5_11ec_8711_e8796e26327frow0_col13 {\n",
       "            background-color:  #023858;\n",
       "            color:  #f1f1f1;\n",
       "        }    #T_9dd93cf4_8cf5_11ec_8711_e8796e26327frow0_col14 {\n",
       "            background-color:  #023858;\n",
       "            color:  #f1f1f1;\n",
       "        }    #T_9dd93cf4_8cf5_11ec_8711_e8796e26327frow0_col15 {\n",
       "            background-color:  #fff7fb;\n",
       "            color:  #000000;\n",
       "        }    #T_9dd93cf4_8cf5_11ec_8711_e8796e26327frow0_col16 {\n",
       "            background-color:  #fff7fb;\n",
       "            color:  #000000;\n",
       "        }    #T_9dd93cf4_8cf5_11ec_8711_e8796e26327frow1_col0 {\n",
       "            background-color:  #023858;\n",
       "            color:  #f1f1f1;\n",
       "        }    #T_9dd93cf4_8cf5_11ec_8711_e8796e26327frow1_col1 {\n",
       "            background-color:  #023858;\n",
       "            color:  #f1f1f1;\n",
       "        }    #T_9dd93cf4_8cf5_11ec_8711_e8796e26327frow1_col2 {\n",
       "            background-color:  #fff7fb;\n",
       "            color:  #000000;\n",
       "        }    #T_9dd93cf4_8cf5_11ec_8711_e8796e26327frow1_col3 {\n",
       "            background-color:  #023858;\n",
       "            color:  #f1f1f1;\n",
       "        }    #T_9dd93cf4_8cf5_11ec_8711_e8796e26327frow1_col4 {\n",
       "            background-color:  #023858;\n",
       "            color:  #f1f1f1;\n",
       "        }    #T_9dd93cf4_8cf5_11ec_8711_e8796e26327frow1_col5 {\n",
       "            background-color:  #023858;\n",
       "            color:  #f1f1f1;\n",
       "        }    #T_9dd93cf4_8cf5_11ec_8711_e8796e26327frow1_col6 {\n",
       "            background-color:  #fff7fb;\n",
       "            color:  #000000;\n",
       "        }    #T_9dd93cf4_8cf5_11ec_8711_e8796e26327frow1_col7 {\n",
       "            background-color:  #023858;\n",
       "            color:  #f1f1f1;\n",
       "        }    #T_9dd93cf4_8cf5_11ec_8711_e8796e26327frow1_col8 {\n",
       "            background-color:  #023858;\n",
       "            color:  #f1f1f1;\n",
       "        }    #T_9dd93cf4_8cf5_11ec_8711_e8796e26327frow1_col9 {\n",
       "            background-color:  #fff7fb;\n",
       "            color:  #000000;\n",
       "        }    #T_9dd93cf4_8cf5_11ec_8711_e8796e26327frow1_col10 {\n",
       "            background-color:  #fff7fb;\n",
       "            color:  #000000;\n",
       "        }    #T_9dd93cf4_8cf5_11ec_8711_e8796e26327frow1_col11 {\n",
       "            background-color:  #fff7fb;\n",
       "            color:  #000000;\n",
       "        }    #T_9dd93cf4_8cf5_11ec_8711_e8796e26327frow1_col12 {\n",
       "            background-color:  #023858;\n",
       "            color:  #f1f1f1;\n",
       "        }    #T_9dd93cf4_8cf5_11ec_8711_e8796e26327frow1_col13 {\n",
       "            background-color:  #fff7fb;\n",
       "            color:  #000000;\n",
       "        }    #T_9dd93cf4_8cf5_11ec_8711_e8796e26327frow1_col14 {\n",
       "            background-color:  #fff7fb;\n",
       "            color:  #000000;\n",
       "        }    #T_9dd93cf4_8cf5_11ec_8711_e8796e26327frow1_col15 {\n",
       "            background-color:  #023858;\n",
       "            color:  #f1f1f1;\n",
       "        }    #T_9dd93cf4_8cf5_11ec_8711_e8796e26327frow1_col16 {\n",
       "            background-color:  #023858;\n",
       "            color:  #f1f1f1;\n",
       "        }</style><table id=\"T_9dd93cf4_8cf5_11ec_8711_e8796e26327f\" ><thead>    <tr>        <th class=\"index_name level0\" >Title</th>        <th class=\"col_heading level0 col0\" >Capt</th>        <th class=\"col_heading level0 col1\" >Col</th>        <th class=\"col_heading level0 col2\" >Countess</th>        <th class=\"col_heading level0 col3\" >Don</th>        <th class=\"col_heading level0 col4\" >Dr</th>        <th class=\"col_heading level0 col5\" >Jonkheer</th>        <th class=\"col_heading level0 col6\" >Lady</th>        <th class=\"col_heading level0 col7\" >Major</th>        <th class=\"col_heading level0 col8\" >Master</th>        <th class=\"col_heading level0 col9\" >Miss</th>        <th class=\"col_heading level0 col10\" >Mlle</th>        <th class=\"col_heading level0 col11\" >Mme</th>        <th class=\"col_heading level0 col12\" >Mr</th>        <th class=\"col_heading level0 col13\" >Mrs</th>        <th class=\"col_heading level0 col14\" >Ms</th>        <th class=\"col_heading level0 col15\" >Rev</th>        <th class=\"col_heading level0 col16\" >Sir</th>    </tr>    <tr>        <th class=\"index_name level0\" >Sex</th>        <th class=\"blank\" ></th>        <th class=\"blank\" ></th>        <th class=\"blank\" ></th>        <th class=\"blank\" ></th>        <th class=\"blank\" ></th>        <th class=\"blank\" ></th>        <th class=\"blank\" ></th>        <th class=\"blank\" ></th>        <th class=\"blank\" ></th>        <th class=\"blank\" ></th>        <th class=\"blank\" ></th>        <th class=\"blank\" ></th>        <th class=\"blank\" ></th>        <th class=\"blank\" ></th>        <th class=\"blank\" ></th>        <th class=\"blank\" ></th>        <th class=\"blank\" ></th>    </tr></thead><tbody>\n",
       "                <tr>\n",
       "                        <th id=\"T_9dd93cf4_8cf5_11ec_8711_e8796e26327flevel0_row0\" class=\"row_heading level0 row0\" >female</th>\n",
       "                        <td id=\"T_9dd93cf4_8cf5_11ec_8711_e8796e26327frow0_col0\" class=\"data row0 col0\" >0</td>\n",
       "                        <td id=\"T_9dd93cf4_8cf5_11ec_8711_e8796e26327frow0_col1\" class=\"data row0 col1\" >0</td>\n",
       "                        <td id=\"T_9dd93cf4_8cf5_11ec_8711_e8796e26327frow0_col2\" class=\"data row0 col2\" >1</td>\n",
       "                        <td id=\"T_9dd93cf4_8cf5_11ec_8711_e8796e26327frow0_col3\" class=\"data row0 col3\" >0</td>\n",
       "                        <td id=\"T_9dd93cf4_8cf5_11ec_8711_e8796e26327frow0_col4\" class=\"data row0 col4\" >1</td>\n",
       "                        <td id=\"T_9dd93cf4_8cf5_11ec_8711_e8796e26327frow0_col5\" class=\"data row0 col5\" >0</td>\n",
       "                        <td id=\"T_9dd93cf4_8cf5_11ec_8711_e8796e26327frow0_col6\" class=\"data row0 col6\" >1</td>\n",
       "                        <td id=\"T_9dd93cf4_8cf5_11ec_8711_e8796e26327frow0_col7\" class=\"data row0 col7\" >0</td>\n",
       "                        <td id=\"T_9dd93cf4_8cf5_11ec_8711_e8796e26327frow0_col8\" class=\"data row0 col8\" >0</td>\n",
       "                        <td id=\"T_9dd93cf4_8cf5_11ec_8711_e8796e26327frow0_col9\" class=\"data row0 col9\" >182</td>\n",
       "                        <td id=\"T_9dd93cf4_8cf5_11ec_8711_e8796e26327frow0_col10\" class=\"data row0 col10\" >2</td>\n",
       "                        <td id=\"T_9dd93cf4_8cf5_11ec_8711_e8796e26327frow0_col11\" class=\"data row0 col11\" >1</td>\n",
       "                        <td id=\"T_9dd93cf4_8cf5_11ec_8711_e8796e26327frow0_col12\" class=\"data row0 col12\" >0</td>\n",
       "                        <td id=\"T_9dd93cf4_8cf5_11ec_8711_e8796e26327frow0_col13\" class=\"data row0 col13\" >125</td>\n",
       "                        <td id=\"T_9dd93cf4_8cf5_11ec_8711_e8796e26327frow0_col14\" class=\"data row0 col14\" >1</td>\n",
       "                        <td id=\"T_9dd93cf4_8cf5_11ec_8711_e8796e26327frow0_col15\" class=\"data row0 col15\" >0</td>\n",
       "                        <td id=\"T_9dd93cf4_8cf5_11ec_8711_e8796e26327frow0_col16\" class=\"data row0 col16\" >0</td>\n",
       "            </tr>\n",
       "            <tr>\n",
       "                        <th id=\"T_9dd93cf4_8cf5_11ec_8711_e8796e26327flevel0_row1\" class=\"row_heading level0 row1\" >male</th>\n",
       "                        <td id=\"T_9dd93cf4_8cf5_11ec_8711_e8796e26327frow1_col0\" class=\"data row1 col0\" >1</td>\n",
       "                        <td id=\"T_9dd93cf4_8cf5_11ec_8711_e8796e26327frow1_col1\" class=\"data row1 col1\" >2</td>\n",
       "                        <td id=\"T_9dd93cf4_8cf5_11ec_8711_e8796e26327frow1_col2\" class=\"data row1 col2\" >0</td>\n",
       "                        <td id=\"T_9dd93cf4_8cf5_11ec_8711_e8796e26327frow1_col3\" class=\"data row1 col3\" >1</td>\n",
       "                        <td id=\"T_9dd93cf4_8cf5_11ec_8711_e8796e26327frow1_col4\" class=\"data row1 col4\" >6</td>\n",
       "                        <td id=\"T_9dd93cf4_8cf5_11ec_8711_e8796e26327frow1_col5\" class=\"data row1 col5\" >1</td>\n",
       "                        <td id=\"T_9dd93cf4_8cf5_11ec_8711_e8796e26327frow1_col6\" class=\"data row1 col6\" >0</td>\n",
       "                        <td id=\"T_9dd93cf4_8cf5_11ec_8711_e8796e26327frow1_col7\" class=\"data row1 col7\" >2</td>\n",
       "                        <td id=\"T_9dd93cf4_8cf5_11ec_8711_e8796e26327frow1_col8\" class=\"data row1 col8\" >40</td>\n",
       "                        <td id=\"T_9dd93cf4_8cf5_11ec_8711_e8796e26327frow1_col9\" class=\"data row1 col9\" >0</td>\n",
       "                        <td id=\"T_9dd93cf4_8cf5_11ec_8711_e8796e26327frow1_col10\" class=\"data row1 col10\" >0</td>\n",
       "                        <td id=\"T_9dd93cf4_8cf5_11ec_8711_e8796e26327frow1_col11\" class=\"data row1 col11\" >0</td>\n",
       "                        <td id=\"T_9dd93cf4_8cf5_11ec_8711_e8796e26327frow1_col12\" class=\"data row1 col12\" >517</td>\n",
       "                        <td id=\"T_9dd93cf4_8cf5_11ec_8711_e8796e26327frow1_col13\" class=\"data row1 col13\" >0</td>\n",
       "                        <td id=\"T_9dd93cf4_8cf5_11ec_8711_e8796e26327frow1_col14\" class=\"data row1 col14\" >0</td>\n",
       "                        <td id=\"T_9dd93cf4_8cf5_11ec_8711_e8796e26327frow1_col15\" class=\"data row1 col15\" >6</td>\n",
       "                        <td id=\"T_9dd93cf4_8cf5_11ec_8711_e8796e26327frow1_col16\" class=\"data row1 col16\" >1</td>\n",
       "            </tr>\n",
       "    </tbody></table>"
      ],
      "text/plain": [
       "<pandas.io.formats.style.Styler at 0x1d4ba133d48>"
      ]
     },
     "execution_count": 130,
     "metadata": {},
     "output_type": "execute_result"
    }
   ],
   "source": [
    "pd.crosstab(df_train['Title'], df_train['Sex']).T.style.background_gradient()"
   ]
  },
  {
   "cell_type": "code",
   "execution_count": 131,
   "metadata": {},
   "outputs": [
    {
     "data": {
      "text/html": [
       "<style  type=\"text/css\" >\n",
       "    #T_a42ffbfe_8cf5_11ec_bc5c_e8796e26327frow0_col0 {\n",
       "            background-color:  #fff7fb;\n",
       "            color:  #000000;\n",
       "        }    #T_a42ffbfe_8cf5_11ec_bc5c_e8796e26327frow0_col1 {\n",
       "            background-color:  #023858;\n",
       "            color:  #f1f1f1;\n",
       "        }    #T_a42ffbfe_8cf5_11ec_bc5c_e8796e26327frow0_col2 {\n",
       "            background-color:  #fff7fb;\n",
       "            color:  #000000;\n",
       "        }    #T_a42ffbfe_8cf5_11ec_bc5c_e8796e26327frow0_col3 {\n",
       "            background-color:  #fff7fb;\n",
       "            color:  #000000;\n",
       "        }    #T_a42ffbfe_8cf5_11ec_bc5c_e8796e26327frow0_col4 {\n",
       "            background-color:  #023858;\n",
       "            color:  #f1f1f1;\n",
       "        }    #T_a42ffbfe_8cf5_11ec_bc5c_e8796e26327frow0_col5 {\n",
       "            background-color:  #fff7fb;\n",
       "            color:  #000000;\n",
       "        }    #T_a42ffbfe_8cf5_11ec_bc5c_e8796e26327frow0_col6 {\n",
       "            background-color:  #023858;\n",
       "            color:  #f1f1f1;\n",
       "        }    #T_a42ffbfe_8cf5_11ec_bc5c_e8796e26327frow0_col7 {\n",
       "            background-color:  #023858;\n",
       "            color:  #f1f1f1;\n",
       "        }    #T_a42ffbfe_8cf5_11ec_bc5c_e8796e26327frow0_col8 {\n",
       "            background-color:  #fff7fb;\n",
       "            color:  #000000;\n",
       "        }    #T_a42ffbfe_8cf5_11ec_bc5c_e8796e26327frow1_col0 {\n",
       "            background-color:  #023858;\n",
       "            color:  #f1f1f1;\n",
       "        }    #T_a42ffbfe_8cf5_11ec_bc5c_e8796e26327frow1_col1 {\n",
       "            background-color:  #fff7fb;\n",
       "            color:  #000000;\n",
       "        }    #T_a42ffbfe_8cf5_11ec_bc5c_e8796e26327frow1_col2 {\n",
       "            background-color:  #023858;\n",
       "            color:  #f1f1f1;\n",
       "        }    #T_a42ffbfe_8cf5_11ec_bc5c_e8796e26327frow1_col3 {\n",
       "            background-color:  #023858;\n",
       "            color:  #f1f1f1;\n",
       "        }    #T_a42ffbfe_8cf5_11ec_bc5c_e8796e26327frow1_col4 {\n",
       "            background-color:  #fff7fb;\n",
       "            color:  #000000;\n",
       "        }    #T_a42ffbfe_8cf5_11ec_bc5c_e8796e26327frow1_col5 {\n",
       "            background-color:  #023858;\n",
       "            color:  #f1f1f1;\n",
       "        }    #T_a42ffbfe_8cf5_11ec_bc5c_e8796e26327frow1_col6 {\n",
       "            background-color:  #fff7fb;\n",
       "            color:  #000000;\n",
       "        }    #T_a42ffbfe_8cf5_11ec_bc5c_e8796e26327frow1_col7 {\n",
       "            background-color:  #fff7fb;\n",
       "            color:  #000000;\n",
       "        }    #T_a42ffbfe_8cf5_11ec_bc5c_e8796e26327frow1_col8 {\n",
       "            background-color:  #023858;\n",
       "            color:  #f1f1f1;\n",
       "        }</style><table id=\"T_a42ffbfe_8cf5_11ec_bc5c_e8796e26327f\" ><thead>    <tr>        <th class=\"index_name level0\" >Title</th>        <th class=\"col_heading level0 col0\" >Col</th>        <th class=\"col_heading level0 col1\" >Dona</th>        <th class=\"col_heading level0 col2\" >Dr</th>        <th class=\"col_heading level0 col3\" >Master</th>        <th class=\"col_heading level0 col4\" >Miss</th>        <th class=\"col_heading level0 col5\" >Mr</th>        <th class=\"col_heading level0 col6\" >Mrs</th>        <th class=\"col_heading level0 col7\" >Ms</th>        <th class=\"col_heading level0 col8\" >Rev</th>    </tr>    <tr>        <th class=\"index_name level0\" >Sex</th>        <th class=\"blank\" ></th>        <th class=\"blank\" ></th>        <th class=\"blank\" ></th>        <th class=\"blank\" ></th>        <th class=\"blank\" ></th>        <th class=\"blank\" ></th>        <th class=\"blank\" ></th>        <th class=\"blank\" ></th>        <th class=\"blank\" ></th>    </tr></thead><tbody>\n",
       "                <tr>\n",
       "                        <th id=\"T_a42ffbfe_8cf5_11ec_bc5c_e8796e26327flevel0_row0\" class=\"row_heading level0 row0\" >female</th>\n",
       "                        <td id=\"T_a42ffbfe_8cf5_11ec_bc5c_e8796e26327frow0_col0\" class=\"data row0 col0\" >0</td>\n",
       "                        <td id=\"T_a42ffbfe_8cf5_11ec_bc5c_e8796e26327frow0_col1\" class=\"data row0 col1\" >1</td>\n",
       "                        <td id=\"T_a42ffbfe_8cf5_11ec_bc5c_e8796e26327frow0_col2\" class=\"data row0 col2\" >0</td>\n",
       "                        <td id=\"T_a42ffbfe_8cf5_11ec_bc5c_e8796e26327frow0_col3\" class=\"data row0 col3\" >0</td>\n",
       "                        <td id=\"T_a42ffbfe_8cf5_11ec_bc5c_e8796e26327frow0_col4\" class=\"data row0 col4\" >78</td>\n",
       "                        <td id=\"T_a42ffbfe_8cf5_11ec_bc5c_e8796e26327frow0_col5\" class=\"data row0 col5\" >0</td>\n",
       "                        <td id=\"T_a42ffbfe_8cf5_11ec_bc5c_e8796e26327frow0_col6\" class=\"data row0 col6\" >72</td>\n",
       "                        <td id=\"T_a42ffbfe_8cf5_11ec_bc5c_e8796e26327frow0_col7\" class=\"data row0 col7\" >1</td>\n",
       "                        <td id=\"T_a42ffbfe_8cf5_11ec_bc5c_e8796e26327frow0_col8\" class=\"data row0 col8\" >0</td>\n",
       "            </tr>\n",
       "            <tr>\n",
       "                        <th id=\"T_a42ffbfe_8cf5_11ec_bc5c_e8796e26327flevel0_row1\" class=\"row_heading level0 row1\" >male</th>\n",
       "                        <td id=\"T_a42ffbfe_8cf5_11ec_bc5c_e8796e26327frow1_col0\" class=\"data row1 col0\" >2</td>\n",
       "                        <td id=\"T_a42ffbfe_8cf5_11ec_bc5c_e8796e26327frow1_col1\" class=\"data row1 col1\" >0</td>\n",
       "                        <td id=\"T_a42ffbfe_8cf5_11ec_bc5c_e8796e26327frow1_col2\" class=\"data row1 col2\" >1</td>\n",
       "                        <td id=\"T_a42ffbfe_8cf5_11ec_bc5c_e8796e26327frow1_col3\" class=\"data row1 col3\" >21</td>\n",
       "                        <td id=\"T_a42ffbfe_8cf5_11ec_bc5c_e8796e26327frow1_col4\" class=\"data row1 col4\" >0</td>\n",
       "                        <td id=\"T_a42ffbfe_8cf5_11ec_bc5c_e8796e26327frow1_col5\" class=\"data row1 col5\" >240</td>\n",
       "                        <td id=\"T_a42ffbfe_8cf5_11ec_bc5c_e8796e26327frow1_col6\" class=\"data row1 col6\" >0</td>\n",
       "                        <td id=\"T_a42ffbfe_8cf5_11ec_bc5c_e8796e26327frow1_col7\" class=\"data row1 col7\" >0</td>\n",
       "                        <td id=\"T_a42ffbfe_8cf5_11ec_bc5c_e8796e26327frow1_col8\" class=\"data row1 col8\" >2</td>\n",
       "            </tr>\n",
       "    </tbody></table>"
      ],
      "text/plain": [
       "<pandas.io.formats.style.Styler at 0x1d4b9ff6f48>"
      ]
     },
     "execution_count": 131,
     "metadata": {},
     "output_type": "execute_result"
    }
   ],
   "source": [
    "pd.crosstab(df_test['Title'], df_test['Sex']).T.style.background_gradient()"
   ]
  },
  {
   "cell_type": "markdown",
   "metadata": {},
   "source": [
    "Replace various titles to (Mr, Mrs, Miss, others, Master)"
   ]
  },
  {
   "cell_type": "code",
   "execution_count": 132,
   "metadata": {},
   "outputs": [],
   "source": [
    "df_train['Title'].replace(['Capt', 'Col', 'Countess', 'Don', 'Dr', 'Jonkheer', 'Lady', 'Major', 'Miss', 'Mlle', 'Mme', 'Mr', 'Mrs', 'Ms', 'Rev', 'Sir'],\n",
    "                         ['Mr', 'Mr', 'Mrs', 'Mr', 'Mr', 'Other', 'Miss', 'Mr', 'Miss', 'Miss', 'Miss', 'Mr', 'Mrs', 'Miss', 'Mr', 'Mr'], inplace=True)\n",
    "df_test['Title'].replace(['Capt', 'Col', 'Countess', 'Don', 'Dr', 'Jonkheer', 'Lady', 'Major', 'Miss', 'Mlle', 'Mme', 'Mr', 'Mrs', 'Ms', 'Rev', 'Sir', 'Dona'],\n",
    "                         ['Mr', 'Mr', 'Mrs', 'Mr', 'Mr', 'Other', 'Miss', 'Mr', 'Miss', 'Miss', 'Miss', 'Mr', 'Mrs', 'Miss', 'Mr', 'Mr', 'Mrs'], inplace=True)"
   ]
  },
  {
   "cell_type": "code",
   "execution_count": 133,
   "metadata": {
    "scrolled": true
   },
   "outputs": [
    {
     "data": {
      "text/html": [
       "<div>\n",
       "<style scoped>\n",
       "    .dataframe tbody tr th:only-of-type {\n",
       "        vertical-align: middle;\n",
       "    }\n",
       "\n",
       "    .dataframe tbody tr th {\n",
       "        vertical-align: top;\n",
       "    }\n",
       "\n",
       "    .dataframe thead th {\n",
       "        text-align: right;\n",
       "    }\n",
       "</style>\n",
       "<table border=\"1\" class=\"dataframe\">\n",
       "  <thead>\n",
       "    <tr style=\"text-align: right;\">\n",
       "      <th></th>\n",
       "      <th>PassengerId</th>\n",
       "      <th>Survived</th>\n",
       "      <th>Pclass</th>\n",
       "      <th>Age</th>\n",
       "      <th>SibSp</th>\n",
       "      <th>Parch</th>\n",
       "      <th>Fare</th>\n",
       "      <th>FamilySize</th>\n",
       "    </tr>\n",
       "    <tr>\n",
       "      <th>Title</th>\n",
       "      <th></th>\n",
       "      <th></th>\n",
       "      <th></th>\n",
       "      <th></th>\n",
       "      <th></th>\n",
       "      <th></th>\n",
       "      <th></th>\n",
       "      <th></th>\n",
       "    </tr>\n",
       "  </thead>\n",
       "  <tbody>\n",
       "    <tr>\n",
       "      <th>Master</th>\n",
       "      <td>414.975000</td>\n",
       "      <td>0.575000</td>\n",
       "      <td>2.625000</td>\n",
       "      <td>4.574167</td>\n",
       "      <td>2.300000</td>\n",
       "      <td>1.375000</td>\n",
       "      <td>0.162256</td>\n",
       "      <td>4.675000</td>\n",
       "    </tr>\n",
       "    <tr>\n",
       "      <th>Miss</th>\n",
       "      <td>412.518717</td>\n",
       "      <td>0.705882</td>\n",
       "      <td>2.278075</td>\n",
       "      <td>22.033113</td>\n",
       "      <td>0.700535</td>\n",
       "      <td>0.534759</td>\n",
       "      <td>0.039771</td>\n",
       "      <td>2.235294</td>\n",
       "    </tr>\n",
       "    <tr>\n",
       "      <th>Mr</th>\n",
       "      <td>457.016760</td>\n",
       "      <td>0.162011</td>\n",
       "      <td>2.372439</td>\n",
       "      <td>33.010791</td>\n",
       "      <td>0.290503</td>\n",
       "      <td>0.150838</td>\n",
       "      <td>-0.079958</td>\n",
       "      <td>1.441341</td>\n",
       "    </tr>\n",
       "    <tr>\n",
       "      <th>Mrs</th>\n",
       "      <td>455.595238</td>\n",
       "      <td>0.793651</td>\n",
       "      <td>1.992063</td>\n",
       "      <td>35.871560</td>\n",
       "      <td>0.690476</td>\n",
       "      <td>0.825397</td>\n",
       "      <td>0.167692</td>\n",
       "      <td>2.515873</td>\n",
       "    </tr>\n",
       "    <tr>\n",
       "      <th>Other</th>\n",
       "      <td>823.000000</td>\n",
       "      <td>0.000000</td>\n",
       "      <td>1.000000</td>\n",
       "      <td>38.000000</td>\n",
       "      <td>0.000000</td>\n",
       "      <td>0.000000</td>\n",
       "      <td>0.000000</td>\n",
       "      <td>1.000000</td>\n",
       "    </tr>\n",
       "  </tbody>\n",
       "</table>\n",
       "</div>"
      ],
      "text/plain": [
       "        PassengerId  Survived    Pclass        Age     SibSp     Parch  \\\n",
       "Title                                                                    \n",
       "Master   414.975000  0.575000  2.625000   4.574167  2.300000  1.375000   \n",
       "Miss     412.518717  0.705882  2.278075  22.033113  0.700535  0.534759   \n",
       "Mr       457.016760  0.162011  2.372439  33.010791  0.290503  0.150838   \n",
       "Mrs      455.595238  0.793651  1.992063  35.871560  0.690476  0.825397   \n",
       "Other    823.000000  0.000000  1.000000  38.000000  0.000000  0.000000   \n",
       "\n",
       "            Fare  FamilySize  \n",
       "Title                         \n",
       "Master  0.162256    4.675000  \n",
       "Miss    0.039771    2.235294  \n",
       "Mr     -0.079958    1.441341  \n",
       "Mrs     0.167692    2.515873  \n",
       "Other   0.000000    1.000000  "
      ]
     },
     "execution_count": 133,
     "metadata": {},
     "output_type": "execute_result"
    }
   ],
   "source": [
    "df_train.groupby('Title').mean()"
   ]
  },
  {
   "cell_type": "markdown",
   "metadata": {},
   "source": [
    "What gender survived most?"
   ]
  },
  {
   "cell_type": "code",
   "execution_count": 120,
   "metadata": {
    "scrolled": true
   },
   "outputs": [
    {
     "data": {
      "text/plain": [
       "<matplotlib.axes._subplots.AxesSubplot at 0x1d4b663b908>"
      ]
     },
     "execution_count": 120,
     "metadata": {},
     "output_type": "execute_result"
    },
    {
     "data": {
      "image/png": "[encoded data removed]",
      "text/plain": [
       "<Figure size 432x288 with 1 Axes>"
      ]
     },
     "metadata": {
      "needs_background": "light"
     },
     "output_type": "display_data"
    }
   ],
   "source": [
    "df_train.groupby('Title')['Survived'].mean().plot.bar()"
   ]
  },
  {
   "cell_type": "markdown",
   "metadata": {},
   "source": [
    "Mr showed lowest survival rate while Mrs showed highest sruvival rates"
   ]
  },
  {
   "cell_type": "markdown",
   "metadata": {},
   "source": [
    "Combine test, train datasets."
   ]
  },
  {
   "cell_type": "code",
   "execution_count": 134,
   "metadata": {},
   "outputs": [],
   "source": [
    "df_all=pd.concat([df_train, df_test])"
   ]
  },
  {
   "cell_type": "code",
   "execution_count": 135,
   "metadata": {
    "scrolled": true
   },
   "outputs": [
    {
     "data": {
      "text/html": [
       "<div>\n",
       "<style scoped>\n",
       "    .dataframe tbody tr th:only-of-type {\n",
       "        vertical-align: middle;\n",
       "    }\n",
       "\n",
       "    .dataframe tbody tr th {\n",
       "        vertical-align: top;\n",
       "    }\n",
       "\n",
       "    .dataframe thead th {\n",
       "        text-align: right;\n",
       "    }\n",
       "</style>\n",
       "<table border=\"1\" class=\"dataframe\">\n",
       "  <thead>\n",
       "    <tr style=\"text-align: right;\">\n",
       "      <th></th>\n",
       "      <th>PassengerId</th>\n",
       "      <th>Survived</th>\n",
       "      <th>Pclass</th>\n",
       "      <th>Age</th>\n",
       "      <th>SibSp</th>\n",
       "      <th>Parch</th>\n",
       "      <th>Fare</th>\n",
       "      <th>FamilySize</th>\n",
       "    </tr>\n",
       "    <tr>\n",
       "      <th>Title</th>\n",
       "      <th></th>\n",
       "      <th></th>\n",
       "      <th></th>\n",
       "      <th></th>\n",
       "      <th></th>\n",
       "      <th></th>\n",
       "      <th></th>\n",
       "      <th></th>\n",
       "    </tr>\n",
       "  </thead>\n",
       "  <tbody>\n",
       "    <tr>\n",
       "      <th>Master</th>\n",
       "      <td>658.852459</td>\n",
       "      <td>0.575000</td>\n",
       "      <td>2.655738</td>\n",
       "      <td>5.482642</td>\n",
       "      <td>2.049180</td>\n",
       "      <td>1.377049</td>\n",
       "      <td>0.109504</td>\n",
       "      <td>4.426230</td>\n",
       "    </tr>\n",
       "    <tr>\n",
       "      <th>Miss</th>\n",
       "      <td>616.766917</td>\n",
       "      <td>0.705882</td>\n",
       "      <td>2.327068</td>\n",
       "      <td>21.956233</td>\n",
       "      <td>0.654135</td>\n",
       "      <td>0.492481</td>\n",
       "      <td>0.018656</td>\n",
       "      <td>2.146617</td>\n",
       "    </tr>\n",
       "    <tr>\n",
       "      <th>Mr</th>\n",
       "      <td>658.726343</td>\n",
       "      <td>0.162011</td>\n",
       "      <td>2.350384</td>\n",
       "      <td>32.802479</td>\n",
       "      <td>0.286445</td>\n",
       "      <td>0.159847</td>\n",
       "      <td>-0.075081</td>\n",
       "      <td>1.446292</td>\n",
       "    </tr>\n",
       "    <tr>\n",
       "      <th>Mrs</th>\n",
       "      <td>689.437186</td>\n",
       "      <td>0.793651</td>\n",
       "      <td>1.929648</td>\n",
       "      <td>36.982558</td>\n",
       "      <td>0.653266</td>\n",
       "      <td>0.824121</td>\n",
       "      <td>0.174668</td>\n",
       "      <td>2.477387</td>\n",
       "    </tr>\n",
       "    <tr>\n",
       "      <th>Other</th>\n",
       "      <td>823.000000</td>\n",
       "      <td>0.000000</td>\n",
       "      <td>1.000000</td>\n",
       "      <td>38.000000</td>\n",
       "      <td>0.000000</td>\n",
       "      <td>0.000000</td>\n",
       "      <td>0.000000</td>\n",
       "      <td>1.000000</td>\n",
       "    </tr>\n",
       "  </tbody>\n",
       "</table>\n",
       "</div>"
      ],
      "text/plain": [
       "        PassengerId  Survived    Pclass        Age     SibSp     Parch  \\\n",
       "Title                                                                    \n",
       "Master   658.852459  0.575000  2.655738   5.482642  2.049180  1.377049   \n",
       "Miss     616.766917  0.705882  2.327068  21.956233  0.654135  0.492481   \n",
       "Mr       658.726343  0.162011  2.350384  32.802479  0.286445  0.159847   \n",
       "Mrs      689.437186  0.793651  1.929648  36.982558  0.653266  0.824121   \n",
       "Other    823.000000  0.000000  1.000000  38.000000  0.000000  0.000000   \n",
       "\n",
       "            Fare  FamilySize  \n",
       "Title                         \n",
       "Master  0.109504    4.426230  \n",
       "Miss    0.018656    2.146617  \n",
       "Mr     -0.075081    1.446292  \n",
       "Mrs     0.174668    2.477387  \n",
       "Other   0.000000    1.000000  "
      ]
     },
     "execution_count": 135,
     "metadata": {},
     "output_type": "execute_result"
    }
   ],
   "source": [
    "df_all.groupby('Title').mean()"
   ]
  },
  {
   "cell_type": "code",
   "execution_count": 146,
   "metadata": {},
   "outputs": [
    {
     "data": {
      "text/plain": [
       "0      False\n",
       "1      False\n",
       "2      False\n",
       "3      False\n",
       "4      False\n",
       "       ...  \n",
       "886    False\n",
       "887    False\n",
       "888     True\n",
       "889    False\n",
       "890    False\n",
       "Name: Age, Length: 891, dtype: bool"
      ]
     },
     "execution_count": 146,
     "metadata": {},
     "output_type": "execute_result"
    }
   ],
   "source": [
    "df_train['Age'].isnull()"
   ]
  },
  {
   "cell_type": "markdown",
   "metadata": {},
   "source": [
    "Put mean age data to the null data"
   ]
  },
  {
   "cell_type": "code",
   "execution_count": 152,
   "metadata": {
    "scrolled": true
   },
   "outputs": [],
   "source": [
    "df_train.loc[(df_train['Age'].isnull())&(df_train['Title']=='Mr'), 'Age']=33\n",
    "df_train.loc[(df_train['Age'].isnull())&(df_train['Title']=='Mrs'), 'Age']=37\n",
    "df_train.loc[(df_train['Age'].isnull())&(df_train['Title']=='Master'), 'Age']=5\n",
    "df_train.loc[(df_train['Age'].isnull())&(df_train['Title']=='Miss'), 'Age']=22\n",
    "df_train.loc[(df_train['Age'].isnull())&(df_train['Title']=='Other'), 'Age']=45"
   ]
  },
  {
   "cell_type": "markdown",
   "metadata": {},
   "source": [
    "Put mean age data to the null data for test datasets"
   ]
  },
  {
   "cell_type": "code",
   "execution_count": 153,
   "metadata": {},
   "outputs": [],
   "source": [
    "df_test.loc[(df_test['Age'].isnull())&(df_test['Title']=='Mr'), 'Age']=33\n",
    "df_test.loc[(df_test['Age'].isnull())&(df_test['Title']=='Mrs'), 'Age']=37\n",
    "df_test.loc[(df_test['Age'].isnull())&(df_test['Title']=='Master'), 'Age']=5\n",
    "df_test.loc[(df_test['Age'].isnull())&(df_test['Title']=='Miss'), 'Age']=22\n",
    "df_test.loc[(df_test['Age'].isnull())&(df_test['Title']=='Other'), 'Age']=45"
   ]
  },
  {
   "cell_type": "code",
   "execution_count": 156,
   "metadata": {},
   "outputs": [
    {
     "data": {
      "text/plain": [
       "0"
      ]
     },
     "execution_count": 156,
     "metadata": {},
     "output_type": "execute_result"
    }
   ],
   "source": [
    "df_train['Age'].isnull().sum()"
   ]
  },
  {
   "cell_type": "markdown",
   "metadata": {},
   "source": [
    "There is no null data for train dataset"
   ]
  },
  {
   "cell_type": "code",
   "execution_count": 157,
   "metadata": {},
   "outputs": [
    {
     "data": {
      "text/plain": [
       "0"
      ]
     },
     "execution_count": 157,
     "metadata": {},
     "output_type": "execute_result"
    }
   ],
   "source": [
    "df_test['Age'].isnull().sum()"
   ]
  },
  {
   "cell_type": "markdown",
   "metadata": {},
   "source": [
    "There is no null data for test dataset"
   ]
  }
 ],
 "metadata": {
  "kernelspec": {
   "display_name": "Python 3",
   "language": "python",
   "name": "python3"
  },
  "language_info": {
   "codemirror_mode": {
    "name": "ipython",
    "version": 3
   },
   "file_extension": ".py",
   "mimetype": "text/x-python",
   "name": "python",
   "nbconvert_exporter": "python",
   "pygments_lexer": "ipython3",
   "version": "3.7.6"
  }
 },
 "nbformat": 4,
 "nbformat_minor": 4
}
